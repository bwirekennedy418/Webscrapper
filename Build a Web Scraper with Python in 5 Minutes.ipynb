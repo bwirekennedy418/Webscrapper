{
 "cells": [
  {
   "cell_type": "markdown",
   "id": "5b7af7c7-f598-4d66-8780-1e32c797e147",
   "metadata": {},
   "source": [
    "  Import necessary libraries"
   ]
  },
  {
   "cell_type": "code",
   "execution_count": 73,
   "id": "a9be9a15-5c3a-4d46-89ef-86bd09e58f5a",
   "metadata": {},
   "outputs": [],
   "source": [
    "import pandas as pd\n",
    "import numpy as np\n",
    "from bs4 import BeautifulSoup\n",
    "import requests"
   ]
  },
  {
   "cell_type": "markdown",
   "id": "c6c14bcb-07d6-494b-88df-e3aeb465fc88",
   "metadata": {},
   "source": [
    "  Using the requests library, we will get the page we want to scrape and extract it’s HTML:"
   ]
  },
  {
   "cell_type": "code",
   "execution_count": 76,
   "id": "e5b56e47-5e8d-4dd1-bc16-9364186e3e64",
   "metadata": {},
   "outputs": [],
   "source": [
    "f = requests.get('http://quotes.toscrape.com/')"
   ]
  },
  {
   "cell_type": "markdown",
   "id": "f5a16e79-9940-45f3-9f12-f8787a8e0f06",
   "metadata": {},
   "source": [
    "  we will pass the site’s HTML text to BeautifulSoup, which will parse this raw data so it can be easily scraped"
   ]
  },
  {
   "cell_type": "code",
   "execution_count": 79,
   "id": "b848d901-b865-4d58-8e89-33493d5bf1ca",
   "metadata": {},
   "outputs": [],
   "source": [
    "soup = BeautifulSoup(f.text)"
   ]
  },
  {
   "cell_type": "markdown",
   "id": "228c00f0-c691-4eec-965a-528703202105",
   "metadata": {},
   "source": [
    "     We can easily run BeautifulSoup’s in-built functions on this object in order to extract the data we want.\r\n",
    "For example, if we wanted to extract all of the text available on the web page, we can easily do it with the following lines of code:"
   ]
  },
  {
   "cell_type": "code",
   "execution_count": 82,
   "id": "467940b8-084d-4f0d-84eb-601c96889f24",
   "metadata": {},
   "outputs": [
    {
     "name": "stdout",
     "output_type": "stream",
     "text": [
      "\n",
      "\n",
      "\n",
      "Quotes to Scrape\n",
      "\n",
      "\n",
      "\n",
      "\n",
      "\n",
      "\n",
      "\n",
      "\n",
      "Quotes to Scrape\n",
      "\n",
      "\n",
      "\n",
      "\n",
      "Login\n",
      "\n",
      "\n",
      "\n",
      "\n",
      "\n",
      "\n",
      "“The world as we have created it is a process of our thinking. It cannot be changed without changing our thinking.”\n",
      "by Albert Einstein\n",
      "(about)\n",
      "\n",
      "\n",
      "            Tags:\n",
      "            \n",
      "change\n",
      "deep-thoughts\n",
      "thinking\n",
      "world\n",
      "\n",
      "\n",
      "\n",
      "“It is our choices, Harry, that show what we truly are, far more than our abilities.”\n",
      "by J.K. Rowling\n",
      "(about)\n",
      "\n",
      "\n",
      "            Tags:\n",
      "            \n",
      "abilities\n",
      "choices\n",
      "\n",
      "\n",
      "\n",
      "“There are only two ways to live your life. One is as though nothing is a miracle. The other is as though everything is a miracle.”\n",
      "by Albert Einstein\n",
      "(about)\n",
      "\n",
      "\n",
      "            Tags:\n",
      "            \n",
      "inspirational\n",
      "life\n",
      "live\n",
      "miracle\n",
      "miracles\n",
      "\n",
      "\n",
      "\n",
      "“The person, be it gentleman or lady, who has not pleasure in a good novel, must be intolerably stupid.”\n",
      "by Jane Austen\n",
      "(about)\n",
      "\n",
      "\n",
      "            Tags:\n",
      "            \n",
      "aliteracy\n",
      "books\n",
      "classic\n",
      "humor\n",
      "\n",
      "\n",
      "\n",
      "“Imperfection is beauty, madness is genius and it's better to be absolutely ridiculous than absolutely boring.”\n",
      "by Marilyn Monroe\n",
      "(about)\n",
      "\n",
      "\n",
      "            Tags:\n",
      "            \n",
      "be-yourself\n",
      "inspirational\n",
      "\n",
      "\n",
      "\n",
      "“Try not to become a man of success. Rather become a man of value.”\n",
      "by Albert Einstein\n",
      "(about)\n",
      "\n",
      "\n",
      "            Tags:\n",
      "            \n",
      "adulthood\n",
      "success\n",
      "value\n",
      "\n",
      "\n",
      "\n",
      "“It is better to be hated for what you are than to be loved for what you are not.”\n",
      "by André Gide\n",
      "(about)\n",
      "\n",
      "\n",
      "            Tags:\n",
      "            \n",
      "life\n",
      "love\n",
      "\n",
      "\n",
      "\n",
      "“I have not failed. I've just found 10,000 ways that won't work.”\n",
      "by Thomas A. Edison\n",
      "(about)\n",
      "\n",
      "\n",
      "            Tags:\n",
      "            \n",
      "edison\n",
      "failure\n",
      "inspirational\n",
      "paraphrased\n",
      "\n",
      "\n",
      "\n",
      "“A woman is like a tea bag; you never know how strong it is until it's in hot water.”\n",
      "by Eleanor Roosevelt\n",
      "(about)\n",
      "\n",
      "\n",
      "            Tags:\n",
      "            \n",
      "misattributed-eleanor-roosevelt\n",
      "\n",
      "\n",
      "\n",
      "“A day without sunshine is like, you know, night.”\n",
      "by Steve Martin\n",
      "(about)\n",
      "\n",
      "\n",
      "            Tags:\n",
      "            \n",
      "humor\n",
      "obvious\n",
      "simile\n",
      "\n",
      "\n",
      "\n",
      "\n",
      "\n",
      "Next →\n",
      "\n",
      "\n",
      "\n",
      "\n",
      "\n",
      "Top Ten tags\n",
      "\n",
      "love\n",
      "\n",
      "\n",
      "inspirational\n",
      "\n",
      "\n",
      "life\n",
      "\n",
      "\n",
      "humor\n",
      "\n",
      "\n",
      "books\n",
      "\n",
      "\n",
      "reading\n",
      "\n",
      "\n",
      "friendship\n",
      "\n",
      "\n",
      "friends\n",
      "\n",
      "\n",
      "truth\n",
      "\n",
      "\n",
      "simile\n",
      "\n",
      "\n",
      "\n",
      "\n",
      "\n",
      "\n",
      "\n",
      "                Quotes by: GoodReads.com\n",
      "\n",
      "\n",
      "                Made with ❤ by Zyte\n",
      "\n",
      "\n",
      "\n",
      "\n",
      "\n"
     ]
    }
   ],
   "source": [
    "print(soup.get_text())"
   ]
  },
  {
   "cell_type": "markdown",
   "id": "9657670c-9d01-4aca-b835-4e5b60c4c9b3",
   "metadata": {},
   "source": [
    "  BeautifulSoup has methods like find() and findAll() that you can use to extract specific HTML tags from the web page.In this case, notice that the <span> class called text is highlighted. This is because you right-clicked on one of the quotes on the page, and all the quotes belong to this text class.\n",
    "We need to extract all the data in this class:"
   ]
  },
  {
   "cell_type": "code",
   "execution_count": 85,
   "id": "490ac28a-2ab1-4a24-9479-4672ac9d6eec",
   "metadata": {},
   "outputs": [
    {
     "name": "stdout",
     "output_type": "stream",
     "text": [
      "“The world as we have created it is a process of our thinking. It cannot be changed without changing our thinking.”\n",
      "“It is our choices, Harry, that show what we truly are, far more than our abilities.”\n",
      "“There are only two ways to live your life. One is as though nothing is a miracle. The other is as though everything is a miracle.”\n",
      "“The person, be it gentleman or lady, who has not pleasure in a good novel, must be intolerably stupid.”\n",
      "“Imperfection is beauty, madness is genius and it's better to be absolutely ridiculous than absolutely boring.”\n",
      "“Try not to become a man of success. Rather become a man of value.”\n",
      "“It is better to be hated for what you are than to be loved for what you are not.”\n",
      "“I have not failed. I've just found 10,000 ways that won't work.”\n",
      "“A woman is like a tea bag; you never know how strong it is until it's in hot water.”\n",
      "“A day without sunshine is like, you know, night.”\n"
     ]
    }
   ],
   "source": [
    "for i in soup.findAll(\"div\",{\"class\":\"quote\"}):\n",
    "    print((i.find(\"span\",{\"class\":\"text\"})).text)"
   ]
  },
  {
   "cell_type": "markdown",
   "id": "60ba5837-3fe4-4a5d-90a8-ee0964ca5cc2",
   "metadata": {},
   "source": [
    "        We will use the find() and findAll() functions to extract all the author names within this tag."
   ]
  },
  {
   "cell_type": "code",
   "execution_count": 88,
   "id": "4782c638-e2c1-4159-97bf-0a500dce8722",
   "metadata": {},
   "outputs": [
    {
     "name": "stdout",
     "output_type": "stream",
     "text": [
      "Albert Einstein\n",
      "J.K. Rowling\n",
      "Albert Einstein\n",
      "Jane Austen\n",
      "Marilyn Monroe\n",
      "Albert Einstein\n",
      "André Gide\n",
      "Thomas A. Edison\n",
      "Eleanor Roosevelt\n",
      "Steve Martin\n"
     ]
    }
   ],
   "source": [
    "for i in soup.findAll(\"div\",{\"class\":\"quote\"}):\n",
    "    print((i.find(\"small\",{\"class\":\"author\"})).text)"
   ]
  },
  {
   "cell_type": "markdown",
   "id": "da52ab42-bb27-48b0-bfad-9bc56312d710",
   "metadata": {},
   "source": [
    "   To extract all the tags on the page, run the following lines of code"
   ]
  },
  {
   "cell_type": "code",
   "execution_count": 91,
   "id": "f96030cf-2553-49ca-b707-c3ed3f4bc76e",
   "metadata": {},
   "outputs": [
    {
     "name": "stdout",
     "output_type": "stream",
     "text": [
      "change,deep-thoughts,thinking,world\n",
      "abilities,choices\n",
      "inspirational,life,live,miracle,miracles\n",
      "aliteracy,books,classic,humor\n",
      "be-yourself,inspirational\n",
      "adulthood,success,value\n",
      "life,love\n",
      "edison,failure,inspirational,paraphrased\n",
      "misattributed-eleanor-roosevelt\n",
      "humor,obvious,simile\n"
     ]
    }
   ],
   "source": [
    "for i in soup.findAll(\"div\",{\"class\":\"tags\"}):\n",
    "    print((i.find(\"meta\"))['content'])"
   ]
  },
  {
   "cell_type": "markdown",
   "id": "a3399cb3-3ae8-4e30-ad18-3d6b7c3980c4",
   "metadata": {},
   "source": [
    "Let’s create three empty arrays so we can store the data collected"
   ]
  },
  {
   "cell_type": "code",
   "execution_count": 94,
   "id": "df85aa3b-07e4-4143-99c0-3279f8906665",
   "metadata": {},
   "outputs": [],
   "source": [
    "quotes = []\n",
    "authors = []\n",
    "tags = []"
   ]
  },
  {
   "cell_type": "markdown",
   "id": "67f58e90-c809-4375-b627-dcc4aa016b36",
   "metadata": {},
   "source": [
    "Create a loop that ranges from 1–10, and iterate through every page on the site. We will run the exact same lines of code we created earlier. The only difference is that instead of printing the output, we will now append it to an array."
   ]
  },
  {
   "cell_type": "code",
   "execution_count": 97,
   "id": "45ba4cec-7d4c-40e2-8238-c2ac8b6467ff",
   "metadata": {},
   "outputs": [],
   "source": [
    "for pages in range(1,10):    \n",
    "    f = requests.get('http://quotes.toscrape.com/page/'+str(pages))\n",
    "    soup = BeautifulSoup(f.text)    \n",
    "    for i in soup.findAll(\"div\",{\"class\":\"quote\"}):\n",
    "        quotes.append((i.find(\"span\",{\"class\":\"text\"})).text)  \n",
    "   \n",
    "    for j in soup.findAll(\"div\",{\"class\":\"quote\"}):\n",
    "        authors.append((j.find(\"small\",{\"class\":\"author\"})).text)    \n",
    "        for k in soup.findAll(\"div\",{\"class\":\"tags\"}):\n",
    "            tags.append((k.find(\"meta\"))['content'])"
   ]
  },
  {
   "cell_type": "markdown",
   "id": "69e852f7-21e9-4ce6-b2b9-5f2be29ba478",
   "metadata": {},
   "source": [
    "Finally, let’s consolidate all the data collected into a Pandas dataframe"
   ]
  },
  {
   "cell_type": "code",
   "execution_count": 101,
   "id": "0fe72078-293a-4dd8-a63a-23758ecb3780",
   "metadata": {},
   "outputs": [],
   "source": [
    "a = {'Quotes' : quotes ,'Authors' : authors , 'Tags': tags}\n",
    "df = pd.DataFrame.from_dict(a, orient='index')\n",
    "df = df.transpose()"
   ]
  },
  {
   "cell_type": "code",
   "execution_count": 103,
   "id": "50546ee1-05bf-4f71-a4da-229e2c69f25a",
   "metadata": {},
   "outputs": [
    {
     "data": {
      "text/html": [
       "<div>\n",
       "<style scoped>\n",
       "    .dataframe tbody tr th:only-of-type {\n",
       "        vertical-align: middle;\n",
       "    }\n",
       "\n",
       "    .dataframe tbody tr th {\n",
       "        vertical-align: top;\n",
       "    }\n",
       "\n",
       "    .dataframe thead th {\n",
       "        text-align: right;\n",
       "    }\n",
       "</style>\n",
       "<table border=\"1\" class=\"dataframe\">\n",
       "  <thead>\n",
       "    <tr style=\"text-align: right;\">\n",
       "      <th></th>\n",
       "      <th>Quotes</th>\n",
       "      <th>Authors</th>\n",
       "      <th>Tags</th>\n",
       "    </tr>\n",
       "  </thead>\n",
       "  <tbody>\n",
       "    <tr>\n",
       "      <th>0</th>\n",
       "      <td>“The world as we have created it is a process ...</td>\n",
       "      <td>Albert Einstein</td>\n",
       "      <td>change,deep-thoughts,thinking,world</td>\n",
       "    </tr>\n",
       "    <tr>\n",
       "      <th>1</th>\n",
       "      <td>“It is our choices, Harry, that show what we t...</td>\n",
       "      <td>J.K. Rowling</td>\n",
       "      <td>abilities,choices</td>\n",
       "    </tr>\n",
       "    <tr>\n",
       "      <th>2</th>\n",
       "      <td>“There are only two ways to live your life. On...</td>\n",
       "      <td>Albert Einstein</td>\n",
       "      <td>inspirational,life,live,miracle,miracles</td>\n",
       "    </tr>\n",
       "    <tr>\n",
       "      <th>3</th>\n",
       "      <td>“The person, be it gentleman or lady, who has ...</td>\n",
       "      <td>Jane Austen</td>\n",
       "      <td>aliteracy,books,classic,humor</td>\n",
       "    </tr>\n",
       "    <tr>\n",
       "      <th>4</th>\n",
       "      <td>“Imperfection is beauty, madness is genius and...</td>\n",
       "      <td>Marilyn Monroe</td>\n",
       "      <td>be-yourself,inspirational</td>\n",
       "    </tr>\n",
       "    <tr>\n",
       "      <th>...</th>\n",
       "      <td>...</td>\n",
       "      <td>...</td>\n",
       "      <td>...</td>\n",
       "    </tr>\n",
       "    <tr>\n",
       "      <th>895</th>\n",
       "      <td>None</td>\n",
       "      <td>None</td>\n",
       "      <td>age,fairytales,growing-up</td>\n",
       "    </tr>\n",
       "    <tr>\n",
       "      <th>896</th>\n",
       "      <td>None</td>\n",
       "      <td>None</td>\n",
       "      <td>god</td>\n",
       "    </tr>\n",
       "    <tr>\n",
       "      <th>897</th>\n",
       "      <td>None</td>\n",
       "      <td>None</td>\n",
       "      <td>death,life</td>\n",
       "    </tr>\n",
       "    <tr>\n",
       "      <th>898</th>\n",
       "      <td>None</td>\n",
       "      <td>None</td>\n",
       "      <td>misattributed-mark-twain,truth</td>\n",
       "    </tr>\n",
       "    <tr>\n",
       "      <th>899</th>\n",
       "      <td>None</td>\n",
       "      <td>None</td>\n",
       "      <td>christianity,faith,religion,sun</td>\n",
       "    </tr>\n",
       "  </tbody>\n",
       "</table>\n",
       "<p>900 rows × 3 columns</p>\n",
       "</div>"
      ],
      "text/plain": [
       "                                                Quotes          Authors  \\\n",
       "0    “The world as we have created it is a process ...  Albert Einstein   \n",
       "1    “It is our choices, Harry, that show what we t...     J.K. Rowling   \n",
       "2    “There are only two ways to live your life. On...  Albert Einstein   \n",
       "3    “The person, be it gentleman or lady, who has ...      Jane Austen   \n",
       "4    “Imperfection is beauty, madness is genius and...   Marilyn Monroe   \n",
       "..                                                 ...              ...   \n",
       "895                                               None             None   \n",
       "896                                               None             None   \n",
       "897                                               None             None   \n",
       "898                                               None             None   \n",
       "899                                               None             None   \n",
       "\n",
       "                                         Tags  \n",
       "0         change,deep-thoughts,thinking,world  \n",
       "1                           abilities,choices  \n",
       "2    inspirational,life,live,miracle,miracles  \n",
       "3               aliteracy,books,classic,humor  \n",
       "4                   be-yourself,inspirational  \n",
       "..                                        ...  \n",
       "895                 age,fairytales,growing-up  \n",
       "896                                       god  \n",
       "897                                death,life  \n",
       "898            misattributed-mark-twain,truth  \n",
       "899           christianity,faith,religion,sun  \n",
       "\n",
       "[900 rows x 3 columns]"
      ]
     },
     "execution_count": 103,
     "metadata": {},
     "output_type": "execute_result"
    }
   ],
   "source": [
    "df"
   ]
  },
  {
   "cell_type": "markdown",
   "id": "c32c42d8-6d78-4fb7-9e51-13d71278747b",
   "metadata": {},
   "source": [
    "We have successfully scraped a website using Python libraries, and stored the extracted data into a dataframe. This data can be used for further analysis — you can build a clustering model to group similar quotes together, or train a model that can automatically generate tags based on an input quote."
   ]
  },
  {
   "cell_type": "code",
   "execution_count": null,
   "id": "e5a2d2ff-089c-4412-9e72-efc50f2e32f5",
   "metadata": {},
   "outputs": [],
   "source": []
  }
 ],
 "metadata": {
  "kernelspec": {
   "display_name": "Python 3 (ipykernel)",
   "language": "python",
   "name": "python3"
  },
  "language_info": {
   "codemirror_mode": {
    "name": "ipython",
    "version": 3
   },
   "file_extension": ".py",
   "mimetype": "text/x-python",
   "name": "python",
   "nbconvert_exporter": "python",
   "pygments_lexer": "ipython3",
   "version": "3.12.4"
  }
 },
 "nbformat": 4,
 "nbformat_minor": 5
}
